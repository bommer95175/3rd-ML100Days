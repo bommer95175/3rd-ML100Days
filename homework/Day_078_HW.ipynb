{
 "cells": [
  {
   "cell_type": "markdown",
   "metadata": {},
   "source": [
    "## Work\n",
    "1. 請嘗試將 preproc_x 替換成以每筆資料的 min/max 進行標準化至 -1 ~ 1 間，再進行訓練\n",
    "2. 請嘗試將 mlp 疊更深 (e.g 5~10 層)，進行訓練後觀察 learning curve 的走勢\n",
    "3. (optional) 請改用 GPU 進行訓練 (如果你有 GPU 的話)，比較使用 CPU 與 GPU 的訓練速度"
   ]
  },
  {
   "cell_type": "code",
   "execution_count": 1,
   "metadata": {},
   "outputs": [
    {
     "name": "stderr",
     "output_type": "stream",
     "text": [
      "Using TensorFlow backend.\n"
     ]
    }
   ],
   "source": [
    "import os\n",
    "import keras\n",
    "\n",
    "# 請嘗試設定 GPU：os.environ\n"
   ]
  },
  {
   "cell_type": "code",
   "execution_count": 15,
   "metadata": {},
   "outputs": [],
   "source": [
    "train, test = keras.datasets.cifar10.load_data()"
   ]
  },
  {
   "cell_type": "code",
   "execution_count": 21,
   "metadata": {},
   "outputs": [],
   "source": [
    "import numpy as np\n",
    "def preproc_x(x, flatten=True):\n",
    "    x = 2*((x-np.mean(x)) / (np.max(x)-np.min(x)))-1\n",
    "    if flatten:\n",
    "        x = x.reshape((len(x), -1))\n",
    "    return x\n",
    "\n",
    "def preproc_y(y, num_classes=10):\n",
    "    if y.shape[-1] == 1:\n",
    "        y = keras.utils.to_categorical(y, num_classes)\n",
    "    return y "
   ]
  },
  {
   "cell_type": "code",
   "execution_count": 22,
   "metadata": {},
   "outputs": [],
   "source": [
    "x_train, y_train = train\n",
    "x_test, y_test = test\n",
    "\n",
    "# Preproc the inputs\n",
    "x_train = preproc_x(x_train)\n",
    "x_test = preproc_x(x_test)\n",
    "\n",
    "# Preprc the outputs\n",
    "y_train = preproc_y(y_train)\n",
    "y_test = preproc_y(y_test)"
   ]
  },
  {
   "cell_type": "code",
   "execution_count": 23,
   "metadata": {},
   "outputs": [],
   "source": [
    "def build_mlp(input_shape, output_units=10, num_neurons=[1024,512, 256, 128,64]):\n",
    "    input_layer = keras.layers.Input(input_shape)\n",
    "    \n",
    "    for i, n_units in enumerate(num_neurons):\n",
    "        if i == 0:\n",
    "            x = keras.layers.Dense(units=n_units, activation=\"relu\", name=\"hidden_layer\"+str(i+1))(input_layer)\n",
    "        else:\n",
    "            x = keras.layers.Dense(units=n_units, activation=\"relu\", name=\"hidden_layer\"+str(i+1))(x)\n",
    "    \n",
    "    out = keras.layers.Dense(units=output_units, activation=\"softmax\", name=\"output\")(x)\n",
    "    \n",
    "    model = keras.models.Model(inputs=[input_layer], outputs=[out])\n",
    "    return model"
   ]
  },
  {
   "cell_type": "code",
   "execution_count": 24,
   "metadata": {},
   "outputs": [],
   "source": [
    "## 超參數設定\n",
    "LEARNING_RATE = 0.001\n",
    "EPOCHS = 100\n",
    "BATCH_SIZE = 256"
   ]
  },
  {
   "cell_type": "code",
   "execution_count": 26,
   "metadata": {},
   "outputs": [
    {
     "name": "stdout",
     "output_type": "stream",
     "text": [
      "Model: \"model_1\"\n",
      "_________________________________________________________________\n",
      "Layer (type)                 Output Shape              Param #   \n",
      "=================================================================\n",
      "input_1 (InputLayer)         (None, 3072)              0         \n",
      "_________________________________________________________________\n",
      "hidden_layer1 (Dense)        (None, 1024)              3146752   \n",
      "_________________________________________________________________\n",
      "hidden_layer2 (Dense)        (None, 512)               524800    \n",
      "_________________________________________________________________\n",
      "hidden_layer3 (Dense)        (None, 256)               131328    \n",
      "_________________________________________________________________\n",
      "hidden_layer4 (Dense)        (None, 128)               32896     \n",
      "_________________________________________________________________\n",
      "hidden_layer5 (Dense)        (None, 64)                8256      \n",
      "_________________________________________________________________\n",
      "output (Dense)               (None, 10)                650       \n",
      "=================================================================\n",
      "Total params: 3,844,682\n",
      "Trainable params: 3,844,682\n",
      "Non-trainable params: 0\n",
      "_________________________________________________________________\n"
     ]
    }
   ],
   "source": [
    "model = build_mlp(input_shape=x_train.shape[1:])\n",
    "model.summary()"
   ]
  },
  {
   "cell_type": "code",
   "execution_count": 27,
   "metadata": {},
   "outputs": [],
   "source": [
    "optimizer = keras.optimizers.Adam(lr=LEARNING_RATE)\n",
    "model.compile(loss=\"categorical_crossentropy\", metrics=[\"accuracy\"], optimizer=optimizer)"
   ]
  },
  {
   "cell_type": "code",
   "execution_count": 28,
   "metadata": {},
   "outputs": [
    {
     "name": "stdout",
     "output_type": "stream",
     "text": [
      "Train on 50000 samples, validate on 10000 samples\n",
      "Epoch 1/100\n",
      "50000/50000 [==============================] - 18s 368us/step - loss: 2.0888 - accuracy: 0.2541 - val_loss: 1.9272 - val_accuracy: 0.2998\n",
      "Epoch 2/100\n",
      "50000/50000 [==============================] - 19s 370us/step - loss: 1.7823 - accuracy: 0.3586 - val_loss: 1.7016 - val_accuracy: 0.3904\n",
      "Epoch 3/100\n",
      "50000/50000 [==============================] - 17s 342us/step - loss: 1.6851 - accuracy: 0.3979 - val_loss: 1.6413 - val_accuracy: 0.4163\n",
      "Epoch 4/100\n",
      "50000/50000 [==============================] - 17s 339us/step - loss: 1.6204 - accuracy: 0.4209 - val_loss: 1.6488 - val_accuracy: 0.4123\n",
      "Epoch 5/100\n",
      "50000/50000 [==============================] - 17s 340us/step - loss: 1.5673 - accuracy: 0.4422 - val_loss: 1.5330 - val_accuracy: 0.4538\n",
      "Epoch 6/100\n",
      "50000/50000 [==============================] - 17s 341us/step - loss: 1.5120 - accuracy: 0.4612 - val_loss: 1.5105 - val_accuracy: 0.4630\n",
      "Epoch 7/100\n",
      "50000/50000 [==============================] - 17s 343us/step - loss: 1.4692 - accuracy: 0.4729 - val_loss: 1.5120 - val_accuracy: 0.4565\n",
      "Epoch 8/100\n",
      "50000/50000 [==============================] - 17s 349us/step - loss: 1.4392 - accuracy: 0.4872 - val_loss: 1.4431 - val_accuracy: 0.4895\n",
      "Epoch 9/100\n",
      "50000/50000 [==============================] - 17s 345us/step - loss: 1.4093 - accuracy: 0.4976 - val_loss: 1.4481 - val_accuracy: 0.4872\n",
      "Epoch 10/100\n",
      "50000/50000 [==============================] - 17s 346us/step - loss: 1.3819 - accuracy: 0.5077 - val_loss: 1.4433 - val_accuracy: 0.4899\n",
      "Epoch 11/100\n",
      "50000/50000 [==============================] - 18s 356us/step - loss: 1.3459 - accuracy: 0.5190 - val_loss: 1.4588 - val_accuracy: 0.4848\n",
      "Epoch 12/100\n",
      "50000/50000 [==============================] - 17s 345us/step - loss: 1.3188 - accuracy: 0.5283 - val_loss: 1.4233 - val_accuracy: 0.5000\n",
      "Epoch 13/100\n",
      "50000/50000 [==============================] - 17s 343us/step - loss: 1.2950 - accuracy: 0.5395 - val_loss: 1.4075 - val_accuracy: 0.5067\n",
      "Epoch 14/100\n",
      "50000/50000 [==============================] - 18s 351us/step - loss: 1.2673 - accuracy: 0.5463 - val_loss: 1.4373 - val_accuracy: 0.4965\n",
      "Epoch 15/100\n",
      "50000/50000 [==============================] - 17s 344us/step - loss: 1.2415 - accuracy: 0.5554 - val_loss: 1.3978 - val_accuracy: 0.5105\n",
      "Epoch 16/100\n",
      "50000/50000 [==============================] - 17s 350us/step - loss: 1.2211 - accuracy: 0.5641 - val_loss: 1.4062 - val_accuracy: 0.5059\n",
      "Epoch 17/100\n",
      "50000/50000 [==============================] - 18s 360us/step - loss: 1.1967 - accuracy: 0.5709 - val_loss: 1.4606 - val_accuracy: 0.5026\n",
      "Epoch 18/100\n",
      "50000/50000 [==============================] - 17s 344us/step - loss: 1.1764 - accuracy: 0.5785 - val_loss: 1.4017 - val_accuracy: 0.5077\n",
      "Epoch 19/100\n",
      "50000/50000 [==============================] - 17s 343us/step - loss: 1.1422 - accuracy: 0.5913 - val_loss: 1.4057 - val_accuracy: 0.5099\n",
      "Epoch 20/100\n",
      "50000/50000 [==============================] - 17s 345us/step - loss: 1.1213 - accuracy: 0.5980 - val_loss: 1.4110 - val_accuracy: 0.5142\n",
      "Epoch 21/100\n",
      "50000/50000 [==============================] - 17s 344us/step - loss: 1.0922 - accuracy: 0.6087 - val_loss: 1.4289 - val_accuracy: 0.5137\n",
      "Epoch 22/100\n",
      "50000/50000 [==============================] - 17s 344us/step - loss: 1.0713 - accuracy: 0.6155 - val_loss: 1.4984 - val_accuracy: 0.5008\n",
      "Epoch 23/100\n",
      "50000/50000 [==============================] - 17s 345us/step - loss: 1.0548 - accuracy: 0.6212 - val_loss: 1.4160 - val_accuracy: 0.5237\n",
      "Epoch 24/100\n",
      "50000/50000 [==============================] - 17s 345us/step - loss: 1.0184 - accuracy: 0.6357 - val_loss: 1.4649 - val_accuracy: 0.5234\n",
      "Epoch 25/100\n",
      "50000/50000 [==============================] - 17s 345us/step - loss: 0.9863 - accuracy: 0.6442 - val_loss: 1.4841 - val_accuracy: 0.5185\n",
      "Epoch 26/100\n",
      "50000/50000 [==============================] - 17s 345us/step - loss: 0.9529 - accuracy: 0.6576 - val_loss: 1.5110 - val_accuracy: 0.5160\n",
      "Epoch 27/100\n",
      "50000/50000 [==============================] - 17s 345us/step - loss: 0.9463 - accuracy: 0.6611 - val_loss: 1.5341 - val_accuracy: 0.5110\n",
      "Epoch 28/100\n",
      "50000/50000 [==============================] - 18s 364us/step - loss: 0.9204 - accuracy: 0.6703 - val_loss: 1.5561 - val_accuracy: 0.5079\n",
      "Epoch 29/100\n",
      "50000/50000 [==============================] - 18s 363us/step - loss: 0.8940 - accuracy: 0.6769 - val_loss: 1.5777 - val_accuracy: 0.5079\n",
      "Epoch 30/100\n",
      "50000/50000 [==============================] - 17s 341us/step - loss: 0.8622 - accuracy: 0.6917 - val_loss: 1.5763 - val_accuracy: 0.5077\n",
      "Epoch 31/100\n",
      "50000/50000 [==============================] - 17s 345us/step - loss: 0.8500 - accuracy: 0.6929 - val_loss: 1.6174 - val_accuracy: 0.5180\n",
      "Epoch 32/100\n",
      "50000/50000 [==============================] - 16s 330us/step - loss: 0.8202 - accuracy: 0.7059 - val_loss: 1.7534 - val_accuracy: 0.5035\n",
      "Epoch 33/100\n",
      "50000/50000 [==============================] - 17s 337us/step - loss: 0.8096 - accuracy: 0.7082 - val_loss: 1.6359 - val_accuracy: 0.5151\n",
      "Epoch 34/100\n",
      "50000/50000 [==============================] - 16s 326us/step - loss: 0.7693 - accuracy: 0.7223 - val_loss: 1.7316 - val_accuracy: 0.5043\n",
      "Epoch 35/100\n",
      "50000/50000 [==============================] - 18s 358us/step - loss: 0.7424 - accuracy: 0.7325 - val_loss: 1.7686 - val_accuracy: 0.5162\n",
      "Epoch 36/100\n",
      "50000/50000 [==============================] - 19s 380us/step - loss: 0.7164 - accuracy: 0.7420 - val_loss: 1.7734 - val_accuracy: 0.5154\n",
      "Epoch 37/100\n",
      "50000/50000 [==============================] - 19s 377us/step - loss: 0.7024 - accuracy: 0.7464 - val_loss: 1.8182 - val_accuracy: 0.5172\n",
      "Epoch 38/100\n",
      "50000/50000 [==============================] - 18s 368us/step - loss: 0.6862 - accuracy: 0.7517 - val_loss: 1.9220 - val_accuracy: 0.5041\n",
      "Epoch 39/100\n",
      "50000/50000 [==============================] - 17s 349us/step - loss: 0.6534 - accuracy: 0.7643 - val_loss: 1.9098 - val_accuracy: 0.5083\n",
      "Epoch 40/100\n",
      "50000/50000 [==============================] - 18s 351us/step - loss: 0.6361 - accuracy: 0.7677 - val_loss: 1.9597 - val_accuracy: 0.5077\n",
      "Epoch 41/100\n",
      "50000/50000 [==============================] - 18s 350us/step - loss: 0.6139 - accuracy: 0.7777 - val_loss: 1.9991 - val_accuracy: 0.5018\n",
      "Epoch 42/100\n",
      "50000/50000 [==============================] - 18s 351us/step - loss: 0.5934 - accuracy: 0.7862 - val_loss: 2.0619 - val_accuracy: 0.4910\n",
      "Epoch 43/100\n",
      "50000/50000 [==============================] - 18s 367us/step - loss: 0.6037 - accuracy: 0.7819 - val_loss: 2.0871 - val_accuracy: 0.5026\n",
      "Epoch 44/100\n",
      "50000/50000 [==============================] - 18s 360us/step - loss: 0.5547 - accuracy: 0.8007 - val_loss: 2.1826 - val_accuracy: 0.5102\n",
      "Epoch 45/100\n",
      "50000/50000 [==============================] - 18s 361us/step - loss: 0.5450 - accuracy: 0.8019 - val_loss: 2.2444 - val_accuracy: 0.4976\n",
      "Epoch 46/100\n",
      "50000/50000 [==============================] - 18s 367us/step - loss: 0.5516 - accuracy: 0.8021 - val_loss: 2.1463 - val_accuracy: 0.5149\n",
      "Epoch 47/100\n",
      "50000/50000 [==============================] - 18s 360us/step - loss: 0.5053 - accuracy: 0.8172 - val_loss: 2.2493 - val_accuracy: 0.5038\n",
      "Epoch 48/100\n",
      "50000/50000 [==============================] - 18s 361us/step - loss: 0.4928 - accuracy: 0.8223 - val_loss: 2.4291 - val_accuracy: 0.5069\n",
      "Epoch 49/100\n",
      "50000/50000 [==============================] - 18s 354us/step - loss: 0.4712 - accuracy: 0.8309 - val_loss: 2.4127 - val_accuracy: 0.5114\n",
      "Epoch 50/100\n",
      "50000/50000 [==============================] - 16s 328us/step - loss: 0.4849 - accuracy: 0.8251 - val_loss: 2.4398 - val_accuracy: 0.5052\n",
      "Epoch 51/100\n",
      "50000/50000 [==============================] - 17s 334us/step - loss: 0.4620 - accuracy: 0.8323 - val_loss: 2.5141 - val_accuracy: 0.5074\n",
      "Epoch 52/100\n",
      "50000/50000 [==============================] - 16s 329us/step - loss: 0.4713 - accuracy: 0.8300 - val_loss: 2.4468 - val_accuracy: 0.5057\n",
      "Epoch 53/100\n",
      "50000/50000 [==============================] - 16s 327us/step - loss: 0.4333 - accuracy: 0.8447 - val_loss: 2.6117 - val_accuracy: 0.5034\n",
      "Epoch 54/100\n",
      "50000/50000 [==============================] - 17s 334us/step - loss: 0.4104 - accuracy: 0.8517 - val_loss: 2.7054 - val_accuracy: 0.5032\n"
     ]
    },
    {
     "name": "stdout",
     "output_type": "stream",
     "text": [
      "Epoch 55/100\n",
      "50000/50000 [==============================] - 16s 322us/step - loss: 0.4218 - accuracy: 0.8473 - val_loss: 2.7175 - val_accuracy: 0.4882\n",
      "Epoch 56/100\n",
      "50000/50000 [==============================] - 16s 324us/step - loss: 0.4007 - accuracy: 0.8559 - val_loss: 2.8728 - val_accuracy: 0.5003\n",
      "Epoch 57/100\n",
      "50000/50000 [==============================] - 16s 323us/step - loss: 0.4017 - accuracy: 0.8562 - val_loss: 2.8415 - val_accuracy: 0.5010\n",
      "Epoch 58/100\n",
      "50000/50000 [==============================] - 16s 322us/step - loss: 0.3780 - accuracy: 0.8622 - val_loss: 2.9219 - val_accuracy: 0.4951\n",
      "Epoch 59/100\n",
      "50000/50000 [==============================] - 16s 324us/step - loss: 0.3765 - accuracy: 0.8654 - val_loss: 2.8263 - val_accuracy: 0.4939\n",
      "Epoch 60/100\n",
      "50000/50000 [==============================] - 16s 323us/step - loss: 0.3692 - accuracy: 0.8679 - val_loss: 3.0214 - val_accuracy: 0.4945\n",
      "Epoch 61/100\n",
      "50000/50000 [==============================] - 16s 323us/step - loss: 0.3781 - accuracy: 0.8641 - val_loss: 2.9340 - val_accuracy: 0.4912\n",
      "Epoch 62/100\n",
      "50000/50000 [==============================] - 16s 323us/step - loss: 0.3479 - accuracy: 0.8759 - val_loss: 3.0009 - val_accuracy: 0.5003\n",
      "Epoch 63/100\n",
      "50000/50000 [==============================] - 16s 325us/step - loss: 0.3374 - accuracy: 0.8795 - val_loss: 2.9571 - val_accuracy: 0.5044\n",
      "Epoch 64/100\n",
      "50000/50000 [==============================] - 17s 332us/step - loss: 0.3217 - accuracy: 0.8865 - val_loss: 3.1904 - val_accuracy: 0.5015\n",
      "Epoch 65/100\n",
      "50000/50000 [==============================] - 16s 325us/step - loss: 0.3311 - accuracy: 0.8809 - val_loss: 3.1156 - val_accuracy: 0.5038\n",
      "Epoch 66/100\n",
      "50000/50000 [==============================] - 16s 324us/step - loss: 0.3209 - accuracy: 0.8851 - val_loss: 3.1502 - val_accuracy: 0.5012\n",
      "Epoch 67/100\n",
      "50000/50000 [==============================] - 16s 323us/step - loss: 0.3120 - accuracy: 0.8886 - val_loss: 3.1742 - val_accuracy: 0.4963\n",
      "Epoch 68/100\n",
      "50000/50000 [==============================] - 16s 322us/step - loss: 0.3371 - accuracy: 0.8805 - val_loss: 3.2069 - val_accuracy: 0.4956\n",
      "Epoch 69/100\n",
      "50000/50000 [==============================] - 16s 323us/step - loss: 0.2901 - accuracy: 0.8962 - val_loss: 3.4610 - val_accuracy: 0.4944\n",
      "Epoch 70/100\n",
      "50000/50000 [==============================] - 16s 329us/step - loss: 0.3102 - accuracy: 0.8900 - val_loss: 3.2774 - val_accuracy: 0.4974\n",
      "Epoch 71/100\n",
      "50000/50000 [==============================] - 16s 325us/step - loss: 0.2945 - accuracy: 0.8953 - val_loss: 3.3325 - val_accuracy: 0.5006\n",
      "Epoch 72/100\n",
      "50000/50000 [==============================] - 16s 325us/step - loss: 0.2881 - accuracy: 0.8964 - val_loss: 3.4344 - val_accuracy: 0.5045\n",
      "Epoch 73/100\n",
      "50000/50000 [==============================] - 16s 327us/step - loss: 0.2618 - accuracy: 0.9064 - val_loss: 3.6682 - val_accuracy: 0.4905\n",
      "Epoch 74/100\n",
      "50000/50000 [==============================] - 16s 324us/step - loss: 0.2859 - accuracy: 0.8988 - val_loss: 3.4696 - val_accuracy: 0.4913\n",
      "Epoch 75/100\n",
      "50000/50000 [==============================] - 16s 324us/step - loss: 0.2697 - accuracy: 0.9055 - val_loss: 3.5658 - val_accuracy: 0.4920\n",
      "Epoch 76/100\n",
      "50000/50000 [==============================] - 16s 324us/step - loss: 0.3128 - accuracy: 0.8899 - val_loss: 3.5403 - val_accuracy: 0.4900\n",
      "Epoch 77/100\n",
      "50000/50000 [==============================] - 16s 325us/step - loss: 0.3125 - accuracy: 0.8890 - val_loss: 3.4319 - val_accuracy: 0.4978\n",
      "Epoch 78/100\n",
      "50000/50000 [==============================] - 16s 324us/step - loss: 0.2355 - accuracy: 0.9169 - val_loss: 3.6258 - val_accuracy: 0.4952\n",
      "Epoch 79/100\n",
      "50000/50000 [==============================] - 17s 332us/step - loss: 0.2425 - accuracy: 0.9134 - val_loss: 3.7356 - val_accuracy: 0.4947\n",
      "Epoch 80/100\n",
      "50000/50000 [==============================] - 16s 324us/step - loss: 0.2436 - accuracy: 0.9140 - val_loss: 3.8487 - val_accuracy: 0.4934\n",
      "Epoch 81/100\n",
      "50000/50000 [==============================] - 17s 332us/step - loss: 0.2481 - accuracy: 0.9141 - val_loss: 3.8752 - val_accuracy: 0.4867\n",
      "Epoch 82/100\n",
      "50000/50000 [==============================] - 16s 329us/step - loss: 0.2449 - accuracy: 0.9140 - val_loss: 3.7722 - val_accuracy: 0.4987\n",
      "Epoch 83/100\n",
      "50000/50000 [==============================] - 17s 334us/step - loss: 0.2356 - accuracy: 0.9186 - val_loss: 3.9112 - val_accuracy: 0.4905\n",
      "Epoch 84/100\n",
      "50000/50000 [==============================] - 16s 325us/step - loss: 0.2215 - accuracy: 0.9216 - val_loss: 3.8659 - val_accuracy: 0.4886\n",
      "Epoch 85/100\n",
      "50000/50000 [==============================] - 16s 326us/step - loss: 0.2732 - accuracy: 0.9056 - val_loss: 3.9043 - val_accuracy: 0.4895\n",
      "Epoch 86/100\n",
      "50000/50000 [==============================] - 16s 325us/step - loss: 0.2339 - accuracy: 0.9179 - val_loss: 3.9834 - val_accuracy: 0.4923\n",
      "Epoch 87/100\n",
      "50000/50000 [==============================] - 17s 332us/step - loss: 0.2066 - accuracy: 0.9280 - val_loss: 4.2528 - val_accuracy: 0.4893\n",
      "Epoch 88/100\n",
      "50000/50000 [==============================] - 16s 328us/step - loss: 0.2223 - accuracy: 0.9219 - val_loss: 4.1133 - val_accuracy: 0.4914\n",
      "Epoch 89/100\n",
      "50000/50000 [==============================] - 16s 325us/step - loss: 0.2266 - accuracy: 0.9201 - val_loss: 4.1312 - val_accuracy: 0.4916\n",
      "Epoch 90/100\n",
      "50000/50000 [==============================] - 16s 326us/step - loss: 0.2496 - accuracy: 0.9130 - val_loss: 4.1082 - val_accuracy: 0.4855\n",
      "Epoch 91/100\n",
      "50000/50000 [==============================] - 16s 326us/step - loss: 0.2090 - accuracy: 0.9284 - val_loss: 4.2038 - val_accuracy: 0.4992\n",
      "Epoch 92/100\n",
      "50000/50000 [==============================] - 17s 331us/step - loss: 0.2004 - accuracy: 0.9297 - val_loss: 3.9959 - val_accuracy: 0.4924\n",
      "Epoch 93/100\n",
      "50000/50000 [==============================] - 16s 328us/step - loss: 0.1921 - accuracy: 0.9323 - val_loss: 4.1527 - val_accuracy: 0.4907\n",
      "Epoch 94/100\n",
      "50000/50000 [==============================] - 16s 325us/step - loss: 0.2158 - accuracy: 0.9254 - val_loss: 4.0804 - val_accuracy: 0.4995\n",
      "Epoch 95/100\n",
      "50000/50000 [==============================] - 16s 327us/step - loss: 0.2188 - accuracy: 0.9233 - val_loss: 4.0224 - val_accuracy: 0.5005\n",
      "Epoch 96/100\n",
      "50000/50000 [==============================] - 16s 326us/step - loss: 0.2209 - accuracy: 0.9235 - val_loss: 4.2454 - val_accuracy: 0.4824\n",
      "Epoch 97/100\n",
      "50000/50000 [==============================] - 16s 326us/step - loss: 0.2186 - accuracy: 0.9235 - val_loss: 4.1408 - val_accuracy: 0.5027\n",
      "Epoch 98/100\n",
      "50000/50000 [==============================] - 16s 326us/step - loss: 0.1801 - accuracy: 0.9372 - val_loss: 4.2074 - val_accuracy: 0.4910\n",
      "Epoch 99/100\n",
      "50000/50000 [==============================] - 16s 327us/step - loss: 0.1957 - accuracy: 0.9322 - val_loss: 4.2391 - val_accuracy: 0.4985\n",
      "Epoch 100/100\n",
      "50000/50000 [==============================] - 17s 332us/step - loss: 0.1979 - accuracy: 0.9311 - val_loss: 4.2496 - val_accuracy: 0.4930\n"
     ]
    },
    {
     "data": {
      "text/plain": [
       "<keras.callbacks.callbacks.History at 0x22435add278>"
      ]
     },
     "execution_count": 28,
     "metadata": {},
     "output_type": "execute_result"
    }
   ],
   "source": [
    "model.fit(x_train, y_train, \n",
    "          epochs=EPOCHS, \n",
    "          batch_size=BATCH_SIZE, \n",
    "          validation_data=(x_test, y_test), \n",
    "          shuffle=True)"
   ]
  },
  {
   "cell_type": "code",
   "execution_count": 30,
   "metadata": {},
   "outputs": [
    {
     "data": {
      "image/png": "[encoded data removed]",
      "text/plain": [
       "<Figure size 432x288 with 1 Axes>"
      ]
     },
     "metadata": {
      "needs_background": "light"
     },
     "output_type": "display_data"
    },
    {
     "data": {
      "image/png": "[encoded data removed]",
      "text/plain": [
       "<Figure size 432x288 with 1 Axes>"
      ]
     },
     "metadata": {
      "needs_background": "light"
     },
     "output_type": "display_data"
    }
   ],
   "source": [
    "import matplotlib.pyplot as plt\n",
    "\n",
    "\n",
    "train_loss = model.history.history[\"loss\"]\n",
    "valid_loss = model.history.history[\"val_loss\"]\n",
    "\n",
    "train_acc = model.history.history[\"accuracy\"]\n",
    "valid_acc = model.history.history[\"val_accuracy\"]\n",
    "\n",
    "plt.plot(range(len(train_loss)), train_loss, label=\"train loss\")\n",
    "plt.plot(range(len(valid_loss)), valid_loss, label=\"valid loss\")\n",
    "plt.legend()\n",
    "plt.title(\"Loss\")\n",
    "plt.show()\n",
    "\n",
    "plt.plot(range(len(train_acc)), train_acc, label=\"train accuracy\")\n",
    "plt.plot(range(len(valid_acc)), valid_acc, label=\"valid accuracy\")\n",
    "plt.legend()\n",
    "plt.title(\"Accuracy\")\n",
    "plt.show()"
   ]
  }
 ],
 "metadata": {
  "kernelspec": {
   "display_name": "Python 3",
   "language": "python",
   "name": "python3"
  },
  "language_info": {
   "codemirror_mode": {
    "name": "ipython",
    "version": 3
   },
   "file_extension": ".py",
   "mimetype": "text/x-python",
   "name": "python",
   "nbconvert_exporter": "python",
   "pygments_lexer": "ipython3",
   "version": "3.7.3"
  }
 },
 "nbformat": 4,
 "nbformat_minor": 2
}
