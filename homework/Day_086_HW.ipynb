{
 "cells": [
  {
   "cell_type": "markdown",
   "metadata": {},
   "source": [
    "## Work\n",
    "1. 試比較 save_best_only 與否的差異\n",
    "2. 請僅存入將 save_weights_only 設定為 True, 並嘗試 reset ipynb 並將模型與權重重新建回並預測 x_test"
   ]
  },
  {
   "cell_type": "code",
   "execution_count": 1,
   "metadata": {},
   "outputs": [
    {
     "name": "stderr",
     "output_type": "stream",
     "text": [
      "Using TensorFlow backend.\n"
     ]
    }
   ],
   "source": [
    "import os\n",
    "import keras\n",
    "\n",
    "# Disable GPU\n",
    "os.environ[\"CUDA_VISIBLE_DEVICES\"] = \"\""
   ]
  },
  {
   "cell_type": "code",
   "execution_count": 2,
   "metadata": {},
   "outputs": [],
   "source": [
    "train, test = keras.datasets.cifar10.load_data()"
   ]
  },
  {
   "cell_type": "code",
   "execution_count": 3,
   "metadata": {},
   "outputs": [],
   "source": [
    "## 資料前處理\n",
    "def preproc_x(x, flatten=True):\n",
    "    x = x / 255.\n",
    "    if flatten:\n",
    "        x = x.reshape((len(x), -1))\n",
    "    return x\n",
    "\n",
    "def preproc_y(y, num_classes=10):\n",
    "    if y.shape[-1] == 1:\n",
    "        y = keras.utils.to_categorical(y, num_classes)\n",
    "    return y    "
   ]
  },
  {
   "cell_type": "code",
   "execution_count": 4,
   "metadata": {},
   "outputs": [],
   "source": [
    "x_train, y_train = train\n",
    "x_test, y_test = test\n",
    "\n",
    "# Preproc the inputs\n",
    "x_train = preproc_x(x_train)\n",
    "x_test = preproc_x(x_test)\n",
    "\n",
    "# Preprc the outputs\n",
    "y_train = preproc_y(y_train)\n",
    "y_test = preproc_y(y_test)"
   ]
  },
  {
   "cell_type": "code",
   "execution_count": 5,
   "metadata": {},
   "outputs": [],
   "source": [
    "from keras.layers import BatchNormalization\n",
    "def build_mlp(input_shape, output_units=10, num_neurons=[512, 256, 128]):\n",
    "    input_layer = keras.layers.Input(input_shape)\n",
    "    \n",
    "    for i, n_units in enumerate(num_neurons):\n",
    "        if i == 0:\n",
    "            x = keras.layers.Dense(units=n_units, \n",
    "                                   activation=\"relu\", \n",
    "                                   name=\"hidden_layer\"+str(i+1))(input_layer)\n",
    "            x = BatchNormalization()(x)\n",
    "        else:\n",
    "            x = keras.layers.Dense(units=n_units, \n",
    "                                   activation=\"relu\", \n",
    "                                   name=\"hidden_layer\"+str(i+1))(x)\n",
    "            x = BatchNormalization()(x)\n",
    "    \n",
    "    out = keras.layers.Dense(units=output_units, activation=\"softmax\", name=\"output\")(x)\n",
    "    \n",
    "    model = keras.models.Model(inputs=[input_layer], outputs=[out])\n",
    "    return model"
   ]
  },
  {
   "cell_type": "code",
   "execution_count": 6,
   "metadata": {},
   "outputs": [],
   "source": [
    "LEARNING_RATE = 1e-3\n",
    "EPOCHS = 50\n",
    "BATCH_SIZE = 1024\n",
    "MOMENTUM = 0.95"
   ]
  },
  {
   "cell_type": "code",
   "execution_count": 7,
   "metadata": {},
   "outputs": [
    {
     "name": "stdout",
     "output_type": "stream",
     "text": [
      "Model: \"model_1\"\n",
      "_________________________________________________________________\n",
      "Layer (type)                 Output Shape              Param #   \n",
      "=================================================================\n",
      "input_1 (InputLayer)         (None, 3072)              0         \n",
      "_________________________________________________________________\n",
      "hidden_layer1 (Dense)        (None, 512)               1573376   \n",
      "_________________________________________________________________\n",
      "batch_normalization_1 (Batch (None, 512)               2048      \n",
      "_________________________________________________________________\n",
      "hidden_layer2 (Dense)        (None, 256)               131328    \n",
      "_________________________________________________________________\n",
      "batch_normalization_2 (Batch (None, 256)               1024      \n",
      "_________________________________________________________________\n",
      "hidden_layer3 (Dense)        (None, 128)               32896     \n",
      "_________________________________________________________________\n",
      "batch_normalization_3 (Batch (None, 128)               512       \n",
      "_________________________________________________________________\n",
      "output (Dense)               (None, 10)                1290      \n",
      "=================================================================\n",
      "Total params: 1,742,474\n",
      "Trainable params: 1,740,682\n",
      "Non-trainable params: 1,792\n",
      "_________________________________________________________________\n",
      "Train on 50000 samples, validate on 10000 samples\n",
      "Epoch 1/50\n",
      "50000/50000 [==============================] - 6s 121us/step - loss: 2.2404 - accuracy: 0.2665 - val_loss: 2.1516 - val_accuracy: 0.1976\n",
      "Epoch 2/50\n",
      "50000/50000 [==============================] - 4s 89us/step - loss: 1.7607 - accuracy: 0.3885 - val_loss: 1.9926 - val_accuracy: 0.2873\n",
      "Epoch 3/50\n",
      "50000/50000 [==============================] - 4s 90us/step - loss: 1.6309 - accuracy: 0.4285 - val_loss: 1.8400 - val_accuracy: 0.3666\n",
      "Epoch 4/50\n",
      "50000/50000 [==============================] - 5s 92us/step - loss: 1.5547 - accuracy: 0.4567 - val_loss: 1.7460 - val_accuracy: 0.3951\n",
      "Epoch 5/50\n",
      "50000/50000 [==============================] - 5s 90us/step - loss: 1.4991 - accuracy: 0.4769 - val_loss: 1.6512 - val_accuracy: 0.4279\n",
      "Epoch 6/50\n",
      "50000/50000 [==============================] - 4s 90us/step - loss: 1.4530 - accuracy: 0.4945 - val_loss: 1.6091 - val_accuracy: 0.4325\n",
      "Epoch 7/50\n",
      "50000/50000 [==============================] - 5s 90us/step - loss: 1.4134 - accuracy: 0.5081 - val_loss: 1.5586 - val_accuracy: 0.4490\n",
      "Epoch 8/50\n",
      "50000/50000 [==============================] - 5s 91us/step - loss: 1.3765 - accuracy: 0.5221 - val_loss: 1.5396 - val_accuracy: 0.4576\n",
      "Epoch 9/50\n",
      "50000/50000 [==============================] - 5s 91us/step - loss: 1.3459 - accuracy: 0.5330 - val_loss: 1.5122 - val_accuracy: 0.4671\n",
      "Epoch 10/50\n",
      "50000/50000 [==============================] - 5s 91us/step - loss: 1.3154 - accuracy: 0.5453 - val_loss: 1.5002 - val_accuracy: 0.4717\n",
      "Epoch 11/50\n",
      "50000/50000 [==============================] - 5s 92us/step - loss: 1.2905 - accuracy: 0.5535 - val_loss: 1.5039 - val_accuracy: 0.4691\n",
      "Epoch 12/50\n",
      "50000/50000 [==============================] - 5s 92us/step - loss: 1.2618 - accuracy: 0.5629 - val_loss: 1.4797 - val_accuracy: 0.4778\n",
      "Epoch 13/50\n",
      "50000/50000 [==============================] - 5s 91us/step - loss: 1.2367 - accuracy: 0.5730 - val_loss: 1.4764 - val_accuracy: 0.4781\n",
      "Epoch 14/50\n",
      "50000/50000 [==============================] - 5s 91us/step - loss: 1.2102 - accuracy: 0.5829 - val_loss: 1.4736 - val_accuracy: 0.4834\n",
      "Epoch 15/50\n",
      "50000/50000 [==============================] - 5s 92us/step - loss: 1.1866 - accuracy: 0.5924 - val_loss: 1.4702 - val_accuracy: 0.4844\n",
      "Epoch 16/50\n",
      "50000/50000 [==============================] - 5s 91us/step - loss: 1.1616 - accuracy: 0.6009 - val_loss: 1.4628 - val_accuracy: 0.4889\n",
      "Epoch 17/50\n",
      "50000/50000 [==============================] - 5s 91us/step - loss: 1.1399 - accuracy: 0.6075 - val_loss: 1.4609 - val_accuracy: 0.4914\n",
      "Epoch 18/50\n",
      "50000/50000 [==============================] - 5s 92us/step - loss: 1.1180 - accuracy: 0.6175 - val_loss: 1.4596 - val_accuracy: 0.4903\n",
      "Epoch 19/50\n",
      "50000/50000 [==============================] - 5s 92us/step - loss: 1.0953 - accuracy: 0.6268 - val_loss: 1.4665 - val_accuracy: 0.4862\n",
      "Epoch 20/50\n",
      "50000/50000 [==============================] - 5s 92us/step - loss: 1.0735 - accuracy: 0.6336 - val_loss: 1.4662 - val_accuracy: 0.4919\n",
      "Epoch 21/50\n",
      "50000/50000 [==============================] - 5s 98us/step - loss: 1.0528 - accuracy: 0.6418 - val_loss: 1.4644 - val_accuracy: 0.4897\n",
      "Epoch 22/50\n",
      "50000/50000 [==============================] - 5s 97us/step - loss: 1.0315 - accuracy: 0.6484 - val_loss: 1.4665 - val_accuracy: 0.4923\n",
      "Epoch 23/50\n",
      "50000/50000 [==============================] - 5s 92us/step - loss: 1.0099 - accuracy: 0.6573 - val_loss: 1.4514 - val_accuracy: 0.4979\n",
      "Epoch 24/50\n",
      "50000/50000 [==============================] - 5s 92us/step - loss: 0.9895 - accuracy: 0.6644 - val_loss: 1.4586 - val_accuracy: 0.4926\n",
      "Epoch 25/50\n",
      "50000/50000 [==============================] - 5s 92us/step - loss: 0.9694 - accuracy: 0.6719 - val_loss: 1.4746 - val_accuracy: 0.4910\n",
      "Epoch 26/50\n",
      "50000/50000 [==============================] - 5s 94us/step - loss: 0.9502 - accuracy: 0.6814 - val_loss: 1.4731 - val_accuracy: 0.4929\n",
      "Epoch 27/50\n",
      "50000/50000 [==============================] - 5s 92us/step - loss: 0.9305 - accuracy: 0.6884 - val_loss: 1.4758 - val_accuracy: 0.4914\n",
      "Epoch 28/50\n",
      "50000/50000 [==============================] - 5s 94us/step - loss: 0.9118 - accuracy: 0.6952 - val_loss: 1.4819 - val_accuracy: 0.4928\n",
      "Epoch 29/50\n",
      "50000/50000 [==============================] - 5s 93us/step - loss: 0.8906 - accuracy: 0.7020 - val_loss: 1.4759 - val_accuracy: 0.4940\n",
      "Epoch 30/50\n",
      "50000/50000 [==============================] - 5s 92us/step - loss: 0.8712 - accuracy: 0.7104 - val_loss: 1.4845 - val_accuracy: 0.4923\n",
      "Epoch 31/50\n",
      "50000/50000 [==============================] - 5s 92us/step - loss: 0.8524 - accuracy: 0.7193 - val_loss: 1.5057 - val_accuracy: 0.4915\n",
      "Epoch 32/50\n",
      "50000/50000 [==============================] - 5s 92us/step - loss: 0.8321 - accuracy: 0.7256 - val_loss: 1.5006 - val_accuracy: 0.4890\n",
      "Epoch 33/50\n",
      "50000/50000 [==============================] - 5s 93us/step - loss: 0.8133 - accuracy: 0.7339 - val_loss: 1.5087 - val_accuracy: 0.4941\n",
      "Epoch 34/50\n",
      "50000/50000 [==============================] - 5s 92us/step - loss: 0.7936 - accuracy: 0.7437 - val_loss: 1.5142 - val_accuracy: 0.4944\n",
      "Epoch 35/50\n",
      "50000/50000 [==============================] - 5s 92us/step - loss: 0.7750 - accuracy: 0.7503 - val_loss: 1.5247 - val_accuracy: 0.4891\n",
      "Epoch 36/50\n",
      "50000/50000 [==============================] - 5s 92us/step - loss: 0.7591 - accuracy: 0.7553 - val_loss: 1.5236 - val_accuracy: 0.4917\n",
      "Epoch 37/50\n",
      "50000/50000 [==============================] - 5s 93us/step - loss: 0.7409 - accuracy: 0.7606 - val_loss: 1.5437 - val_accuracy: 0.4892\n",
      "Epoch 38/50\n",
      "50000/50000 [==============================] - 4s 89us/step - loss: 0.7193 - accuracy: 0.7712 - val_loss: 1.5503 - val_accuracy: 0.4849\n",
      "Epoch 39/50\n",
      "50000/50000 [==============================] - 4s 88us/step - loss: 0.7024 - accuracy: 0.7775 - val_loss: 1.5505 - val_accuracy: 0.4960\n",
      "Epoch 40/50\n",
      "50000/50000 [==============================] - 4s 88us/step - loss: 0.6858 - accuracy: 0.7840 - val_loss: 1.5668 - val_accuracy: 0.4848\n",
      "Epoch 41/50\n",
      "50000/50000 [==============================] - 4s 88us/step - loss: 0.6665 - accuracy: 0.7907 - val_loss: 1.5759 - val_accuracy: 0.4834\n",
      "Epoch 42/50\n",
      "50000/50000 [==============================] - 4s 89us/step - loss: 0.6482 - accuracy: 0.8001 - val_loss: 1.5891 - val_accuracy: 0.4946\n",
      "Epoch 43/50\n",
      "50000/50000 [==============================] - 4s 89us/step - loss: 0.6309 - accuracy: 0.8060 - val_loss: 1.6123 - val_accuracy: 0.4862\n",
      "Epoch 44/50\n",
      "50000/50000 [==============================] - 4s 89us/step - loss: 0.6147 - accuracy: 0.8133 - val_loss: 1.5989 - val_accuracy: 0.4922\n",
      "Epoch 45/50\n",
      "50000/50000 [==============================] - 5s 98us/step - loss: 0.5977 - accuracy: 0.8194 - val_loss: 1.6272 - val_accuracy: 0.4925\n",
      "Epoch 46/50\n"
     ]
    },
    {
     "name": "stdout",
     "output_type": "stream",
     "text": [
      "50000/50000 [==============================] - 5s 107us/step - loss: 0.5804 - accuracy: 0.8258 - val_loss: 1.6189 - val_accuracy: 0.4940\n",
      "Epoch 47/50\n",
      "50000/50000 [==============================] - 5s 104us/step - loss: 0.5631 - accuracy: 0.8321 - val_loss: 1.6305 - val_accuracy: 0.4866\n",
      "Epoch 48/50\n",
      "50000/50000 [==============================] - 5s 100us/step - loss: 0.5477 - accuracy: 0.8404 - val_loss: 1.6491 - val_accuracy: 0.4840\n",
      "Epoch 49/50\n",
      "50000/50000 [==============================] - 5s 98us/step - loss: 0.5288 - accuracy: 0.8460 - val_loss: 1.6838 - val_accuracy: 0.4774\n",
      "Epoch 50/50\n",
      "50000/50000 [==============================] - 5s 110us/step - loss: 0.5146 - accuracy: 0.8514 - val_loss: 1.6873 - val_accuracy: 0.4793\n"
     ]
    },
    {
     "ename": "KeyError",
     "evalue": "'acc'",
     "output_type": "error",
     "traceback": [
      "\u001b[1;31m---------------------------------------------------------------------------\u001b[0m",
      "\u001b[1;31mKeyError\u001b[0m                                  Traceback (most recent call last)",
      "\u001b[1;32m<ipython-input-7-7fd3b5e6e0e9>\u001b[0m in \u001b[0;36m<module>\u001b[1;34m\u001b[0m\n\u001b[0;32m     21\u001b[0m \u001b[0mtrain_loss\u001b[0m \u001b[1;33m=\u001b[0m \u001b[0mmodel\u001b[0m\u001b[1;33m.\u001b[0m\u001b[0mhistory\u001b[0m\u001b[1;33m.\u001b[0m\u001b[0mhistory\u001b[0m\u001b[1;33m[\u001b[0m\u001b[1;34m\"loss\"\u001b[0m\u001b[1;33m]\u001b[0m\u001b[1;33m\u001b[0m\u001b[1;33m\u001b[0m\u001b[0m\n\u001b[0;32m     22\u001b[0m \u001b[0mvalid_loss\u001b[0m \u001b[1;33m=\u001b[0m \u001b[0mmodel\u001b[0m\u001b[1;33m.\u001b[0m\u001b[0mhistory\u001b[0m\u001b[1;33m.\u001b[0m\u001b[0mhistory\u001b[0m\u001b[1;33m[\u001b[0m\u001b[1;34m\"val_loss\"\u001b[0m\u001b[1;33m]\u001b[0m\u001b[1;33m\u001b[0m\u001b[1;33m\u001b[0m\u001b[0m\n\u001b[1;32m---> 23\u001b[1;33m \u001b[0mtrain_acc\u001b[0m \u001b[1;33m=\u001b[0m \u001b[0mmodel\u001b[0m\u001b[1;33m.\u001b[0m\u001b[0mhistory\u001b[0m\u001b[1;33m.\u001b[0m\u001b[0mhistory\u001b[0m\u001b[1;33m[\u001b[0m\u001b[1;34m\"acc\"\u001b[0m\u001b[1;33m]\u001b[0m\u001b[1;33m\u001b[0m\u001b[1;33m\u001b[0m\u001b[0m\n\u001b[0m\u001b[0;32m     24\u001b[0m \u001b[0mvalid_acc\u001b[0m \u001b[1;33m=\u001b[0m \u001b[0mmodel\u001b[0m\u001b[1;33m.\u001b[0m\u001b[0mhistory\u001b[0m\u001b[1;33m.\u001b[0m\u001b[0mhistory\u001b[0m\u001b[1;33m[\u001b[0m\u001b[1;34m\"val_acc\"\u001b[0m\u001b[1;33m]\u001b[0m\u001b[1;33m\u001b[0m\u001b[1;33m\u001b[0m\u001b[0m\n\u001b[0;32m     25\u001b[0m \u001b[1;33m\u001b[0m\u001b[0m\n",
      "\u001b[1;31mKeyError\u001b[0m: 'acc'"
     ]
    }
   ],
   "source": [
    "from keras.callbacks import ModelCheckpoint\n",
    "\n",
    "model_ckpt = ModelCheckpoint(filepath=\"./tmp.h5\", \n",
    "                             monitor=\"val_loss\", \n",
    "                             save_weights_only=True)\n",
    "\n",
    "model = build_mlp(input_shape=x_train.shape[1:])\n",
    "model.summary()\n",
    "optimizer = keras.optimizers.SGD(lr=LEARNING_RATE, nesterov=True, momentum=MOMENTUM)\n",
    "model.compile(loss=\"categorical_crossentropy\", metrics=[\"accuracy\"], optimizer=optimizer)\n",
    "\n",
    "model.fit(x_train, y_train, \n",
    "          epochs=EPOCHS, \n",
    "          batch_size=BATCH_SIZE, \n",
    "          validation_data=(x_test, y_test), \n",
    "          shuffle=True,\n",
    "          callbacks=[model_ckpt]\n",
    "         )\n",
    "\n"
   ]
  },
  {
   "cell_type": "code",
   "execution_count": 12,
   "metadata": {},
   "outputs": [
    {
     "name": "stdout",
     "output_type": "stream",
     "text": [
      "10000/10000 [==============================] - 1s 72us/step\n"
     ]
    }
   ],
   "source": [
    "train_loss = model.history.history[\"loss\"]\n",
    "valid_loss = model.history.history[\"val_loss\"]\n",
    "train_acc = model.history.history[\"accuracy\"]\n",
    "valid_acc = model.history.history[\"val_accuracy\"]\n",
    "\n",
    "# Load back\n",
    "model.load_weights('tmp.h5')\n",
    "loss_loadback, acc_loadback = model.evaluate(x_test, y_test)"
   ]
  },
  {
   "cell_type": "markdown",
   "metadata": {},
   "source": [
    "當save_best_only=false時，代表會一直覆寫model，最好quantity的model並不會被保留下來。"
   ]
  }
 ],
 "metadata": {
  "kernelspec": {
   "display_name": "Python 3",
   "language": "python",
   "name": "python3"
  },
  "language_info": {
   "codemirror_mode": {
    "name": "ipython",
    "version": 3
   },
   "file_extension": ".py",
   "mimetype": "text/x-python",
   "name": "python",
   "nbconvert_exporter": "python",
   "pygments_lexer": "ipython3",
   "version": "3.7.3"
  }
 },
 "nbformat": 4,
 "nbformat_minor": 2
}
