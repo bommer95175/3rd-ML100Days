{
 "cells": [
  {
   "cell_type": "markdown",
   "metadata": {},
   "source": [
    "## Work\n",
    "1. 請嘗試寫一個 callback 用來記錄各類別在訓練過程中，對驗證集的 True Positive 與 True Negative"
   ]
  },
  {
   "cell_type": "code",
   "execution_count": 1,
   "metadata": {},
   "outputs": [
    {
     "name": "stderr",
     "output_type": "stream",
     "text": [
      "Using TensorFlow backend.\n"
     ]
    }
   ],
   "source": [
    "import os\n",
    "import keras\n",
    "import numpy as np\n",
    "# Disable GPU\n",
    "os.environ[\"CUDA_VISIBLE_DEVICES\"] = \"\""
   ]
  },
  {
   "cell_type": "code",
   "execution_count": 2,
   "metadata": {},
   "outputs": [],
   "source": [
    "train, test = keras.datasets.cifar10.load_data()"
   ]
  },
  {
   "cell_type": "code",
   "execution_count": 3,
   "metadata": {},
   "outputs": [],
   "source": [
    "## 資料前處理\n",
    "def preproc_x(x, flatten=True):\n",
    "    x = x / 255.\n",
    "    if flatten:\n",
    "        x = x.reshape((len(x), -1))\n",
    "    return x\n",
    "\n",
    "def preproc_y(y, num_classes=10):\n",
    "    if y.shape[-1] == 1:\n",
    "        y = keras.utils.to_categorical(y, num_classes)\n",
    "    return y    "
   ]
  },
  {
   "cell_type": "code",
   "execution_count": 4,
   "metadata": {},
   "outputs": [],
   "source": [
    "x_train, y_train = train\n",
    "x_test, y_test = test\n",
    "\n",
    "# Preproc the inputs\n",
    "x_train = preproc_x(x_train)\n",
    "x_test = preproc_x(x_test)\n",
    "\n",
    "# Preprc the outputs\n",
    "y_train = preproc_y(y_train)\n",
    "y_test = preproc_y(y_test)"
   ]
  },
  {
   "cell_type": "code",
   "execution_count": 5,
   "metadata": {},
   "outputs": [
    {
     "data": {
      "text/plain": [
       "(10000, 10)"
      ]
     },
     "execution_count": 5,
     "metadata": {},
     "output_type": "execute_result"
    }
   ],
   "source": [
    "y_test.shape"
   ]
  },
  {
   "cell_type": "code",
   "execution_count": 6,
   "metadata": {},
   "outputs": [],
   "source": [
    "from keras.layers import BatchNormalization\n",
    "def build_mlp(input_shape, output_units=10, num_neurons=[512, 256, 128]):\n",
    "    input_layer = keras.layers.Input(input_shape)\n",
    "    \n",
    "    for i, n_units in enumerate(num_neurons):\n",
    "        if i == 0:\n",
    "            x = keras.layers.Dense(units=n_units, \n",
    "                                   activation=\"relu\", \n",
    "                                   name=\"hidden_layer\"+str(i+1))(input_layer)\n",
    "            x = BatchNormalization()(x)\n",
    "        else:\n",
    "            x = keras.layers.Dense(units=n_units, \n",
    "                                   activation=\"relu\", \n",
    "                                   name=\"hidden_layer\"+str(i+1))(x)\n",
    "            x = BatchNormalization()(x)\n",
    "    \n",
    "    out = keras.layers.Dense(units=output_units, activation=\"softmax\", name=\"output\")(x)\n",
    "    \n",
    "    model = keras.models.Model(inputs=[input_layer], outputs=[out])\n",
    "    return model"
   ]
  },
  {
   "cell_type": "code",
   "execution_count": 14,
   "metadata": {},
   "outputs": [],
   "source": [
    "## 超參數設定\n",
    "LEARNING_RATE = 1e-3\n",
    "EPOCHS = 25\n",
    "BATCH_SIZE = 1024\n",
    "MOMENTUM = 0.95"
   ]
  },
  {
   "cell_type": "code",
   "execution_count": 15,
   "metadata": {},
   "outputs": [],
   "source": [
    "# 載入 Callbacks\n",
    "from keras.callbacks import Callback\n",
    "from sklearn.metrics import confusion_matrix\n",
    "# Record_fp_tp\n",
    "class Record_tp_tn(Callback):\n",
    "    def on_train_begin(self, epoch, logs = {}):\n",
    "        self.val_tp=[]\n",
    "        self.val_tn=[]\n",
    "    def on_epoch_end(self,epoch,log={}, thres=0.5):\n",
    "        y_true = self.validation_data[1].argmax(axis = 1)\n",
    "        y_pred = self.model.predict(self.validation_data[0]).argmax(axis=1)\n",
    "#         y_pred = (y_pred[:, 1] >= thres) * 1\n",
    "#         if (y_true==1 & y_pred==y_true):\n",
    "#         self.val_tp.append(np.sum(np.all([y_true==y_pred,],axis=0)))\n",
    "#         self.val_tn.append(np.sum(np.all([y_true[0]!=0,y_pred[0]==0],axis=0)))\n",
    "        self.val_tp.append(np.sum(y_true==y_pred))\n",
    "        self.val_tn.append(np.sum(y_true!=y_pred))\n",
    "#         elif (y_true==1 & y_pred==0):\n",
    "#             logs['val_tp']=0\n",
    "#             logs['val_tn']=1\n",
    "rec_tptn = Record_tp_tn()"
   ]
  },
  {
   "cell_type": "code",
   "execution_count": 16,
   "metadata": {
    "scrolled": true
   },
   "outputs": [
    {
     "name": "stdout",
     "output_type": "stream",
     "text": [
      "Model: \"model_3\"\n",
      "_________________________________________________________________\n",
      "Layer (type)                 Output Shape              Param #   \n",
      "=================================================================\n",
      "input_3 (InputLayer)         (None, 3072)              0         \n",
      "_________________________________________________________________\n",
      "hidden_layer1 (Dense)        (None, 512)               1573376   \n",
      "_________________________________________________________________\n",
      "batch_normalization_7 (Batch (None, 512)               2048      \n",
      "_________________________________________________________________\n",
      "hidden_layer2 (Dense)        (None, 256)               131328    \n",
      "_________________________________________________________________\n",
      "batch_normalization_8 (Batch (None, 256)               1024      \n",
      "_________________________________________________________________\n",
      "hidden_layer3 (Dense)        (None, 128)               32896     \n",
      "_________________________________________________________________\n",
      "batch_normalization_9 (Batch (None, 128)               512       \n",
      "_________________________________________________________________\n",
      "output (Dense)               (None, 10)                1290      \n",
      "=================================================================\n",
      "Total params: 1,742,474\n",
      "Trainable params: 1,740,682\n",
      "Non-trainable params: 1,792\n",
      "_________________________________________________________________\n",
      "Train on 50000 samples, validate on 10000 samples\n",
      "Epoch 1/25\n",
      "50000/50000 [==============================] - 5s 104us/step - loss: 2.1979 - accuracy: 0.2760 - val_loss: 2.1286 - val_accuracy: 0.1908\n",
      "Epoch 2/25\n",
      "50000/50000 [==============================] - 5s 91us/step - loss: 1.7394 - accuracy: 0.3932 - val_loss: 1.9914 - val_accuracy: 0.2703\n",
      "Epoch 3/25\n",
      "50000/50000 [==============================] - 5s 91us/step - loss: 1.6112 - accuracy: 0.4364 - val_loss: 1.8551 - val_accuracy: 0.3278\n",
      "Epoch 4/25\n",
      "50000/50000 [==============================] - 5s 97us/step - loss: 1.5388 - accuracy: 0.4631 - val_loss: 1.7311 - val_accuracy: 0.3940\n",
      "Epoch 5/25\n",
      "50000/50000 [==============================] - 5s 100us/step - loss: 1.4866 - accuracy: 0.4818 - val_loss: 1.6470 - val_accuracy: 0.4179\n",
      "Epoch 6/25\n",
      "50000/50000 [==============================] - 5s 98us/step - loss: 1.4438 - accuracy: 0.4972 - val_loss: 1.5944 - val_accuracy: 0.4346\n",
      "Epoch 7/25\n",
      "50000/50000 [==============================] - 5s 95us/step - loss: 1.4037 - accuracy: 0.5125 - val_loss: 1.5586 - val_accuracy: 0.4428\n",
      "Epoch 8/25\n",
      "50000/50000 [==============================] - 4s 90us/step - loss: 1.3698 - accuracy: 0.5244 - val_loss: 1.5282 - val_accuracy: 0.4567\n",
      "Epoch 9/25\n",
      "50000/50000 [==============================] - 5s 101us/step - loss: 1.3370 - accuracy: 0.5358 - val_loss: 1.5101 - val_accuracy: 0.4634\n",
      "Epoch 10/25\n",
      "50000/50000 [==============================] - 4s 88us/step - loss: 1.3061 - accuracy: 0.5470 - val_loss: 1.4985 - val_accuracy: 0.4699\n",
      "Epoch 11/25\n",
      "50000/50000 [==============================] - 4s 88us/step - loss: 1.2777 - accuracy: 0.5567 - val_loss: 1.4921 - val_accuracy: 0.4677\n",
      "Epoch 12/25\n",
      "50000/50000 [==============================] - 4s 86us/step - loss: 1.2513 - accuracy: 0.5672 - val_loss: 1.4748 - val_accuracy: 0.4764\n",
      "Epoch 13/25\n",
      "50000/50000 [==============================] - 4s 85us/step - loss: 1.2270 - accuracy: 0.5766 - val_loss: 1.4788 - val_accuracy: 0.4746\n",
      "Epoch 14/25\n",
      "50000/50000 [==============================] - 4s 89us/step - loss: 1.1996 - accuracy: 0.5859 - val_loss: 1.4663 - val_accuracy: 0.4764\n",
      "Epoch 15/25\n",
      "50000/50000 [==============================] - 5s 92us/step - loss: 1.1768 - accuracy: 0.5952 - val_loss: 1.4754 - val_accuracy: 0.4784\n",
      "Epoch 16/25\n",
      "50000/50000 [==============================] - 5s 94us/step - loss: 1.1526 - accuracy: 0.6029 - val_loss: 1.4545 - val_accuracy: 0.4875\n",
      "Epoch 17/25\n",
      "50000/50000 [==============================] - 5s 106us/step - loss: 1.1285 - accuracy: 0.6123 - val_loss: 1.4582 - val_accuracy: 0.4862\n",
      "Epoch 18/25\n",
      "50000/50000 [==============================] - 5s 105us/step - loss: 1.1034 - accuracy: 0.6231 - val_loss: 1.4551 - val_accuracy: 0.4873\n",
      "Epoch 19/25\n",
      "50000/50000 [==============================] - 6s 114us/step - loss: 1.0832 - accuracy: 0.6302 - val_loss: 1.4562 - val_accuracy: 0.4927\n",
      "Epoch 20/25\n",
      "50000/50000 [==============================] - 5s 92us/step - loss: 1.0613 - accuracy: 0.6391 - val_loss: 1.4570 - val_accuracy: 0.4888\n",
      "Epoch 21/25\n",
      "50000/50000 [==============================] - 5s 95us/step - loss: 1.0371 - accuracy: 0.6457 - val_loss: 1.4541 - val_accuracy: 0.4954\n",
      "Epoch 22/25\n",
      "50000/50000 [==============================] - 6s 116us/step - loss: 1.0166 - accuracy: 0.6550 - val_loss: 1.4569 - val_accuracy: 0.4930\n",
      "Epoch 23/25\n",
      "50000/50000 [==============================] - 6s 119us/step - loss: 0.9955 - accuracy: 0.6619 - val_loss: 1.4514 - val_accuracy: 0.4970\n",
      "Epoch 24/25\n",
      "50000/50000 [==============================] - 5s 96us/step - loss: 0.9749 - accuracy: 0.6709 - val_loss: 1.4552 - val_accuracy: 0.4912\n",
      "Epoch 25/25\n",
      "50000/50000 [==============================] - 5s 103us/step - loss: 0.9544 - accuracy: 0.6789 - val_loss: 1.4559 - val_accuracy: 0.4959\n"
     ]
    },
    {
     "data": {
      "text/plain": [
       "'Code Here\\n將 tp/tn 從訓練完的模型中取出\\n'"
      ]
     },
     "execution_count": 16,
     "metadata": {},
     "output_type": "execute_result"
    }
   ],
   "source": [
    "model = build_mlp(input_shape=x_train.shape[1:])\n",
    "model.summary()\n",
    "optimizer = keras.optimizers.SGD(lr=LEARNING_RATE, nesterov=True, momentum=MOMENTUM)\n",
    "model.compile(loss=\"categorical_crossentropy\", metrics=[\"accuracy\"], optimizer=optimizer)\n",
    "\n",
    "model.fit(x_train, y_train, \n",
    "              epochs=EPOCHS, \n",
    "              batch_size=BATCH_SIZE, \n",
    "              validation_data=(x_test, y_test), \n",
    "              shuffle=True,\n",
    "              callbacks=[rec_tptn]\n",
    "             )\n",
    "\n",
    "# Collect results\n",
    "train_loss = model.history.history[\"loss\"]\n",
    "valid_loss = model.history.history[\"val_loss\"]\n",
    "train_acc = model.history.history[\"accuracy\"]\n",
    "valid_acc = model.history.history[\"val_accuracy\"]\n",
    "\n",
    "\"\"\"Code Here\n",
    "將 tp/tn 從訓練完的模型中取出\n",
    "\"\"\"\n"
   ]
  },
  {
   "cell_type": "code",
   "execution_count": 21,
   "metadata": {},
   "outputs": [
    {
     "data": {
      "image/png": "[encoded data removed]",
      "text/plain": [
       "<Figure size 432x288 with 1 Axes>"
      ]
     },
     "metadata": {
      "needs_background": "light"
     },
     "output_type": "display_data"
    },
    {
     "data": {
      "image/png": "[encoded data removed]",
      "text/plain": [
       "<Figure size 432x288 with 1 Axes>"
      ]
     },
     "metadata": {
      "needs_background": "light"
     },
     "output_type": "display_data"
    },
    {
     "data": {
      "image/png": "[encoded data removed]",
      "text/plain": [
       "<Figure size 432x288 with 1 Axes>"
      ]
     },
     "metadata": {
      "needs_background": "light"
     },
     "output_type": "display_data"
    }
   ],
   "source": [
    "import matplotlib.pyplot as plt\n",
    "%matplotlib inline\n",
    "valid_tp = np.array(rec_tptn.val_tp)/10000\n",
    "valid_tn = np.array(rec_tptn.val_tn)/10000\n",
    "plt.plot(range(len(train_loss)), train_loss, label=\"train loss\")\n",
    "plt.plot(range(len(valid_loss)), valid_loss, label=\"valid loss\")\n",
    "plt.legend()\n",
    "plt.title(\"Loss\")\n",
    "plt.show()\n",
    "\n",
    "plt.plot(range(len(train_acc)), train_acc, label=\"train accuracy\")\n",
    "plt.plot(range(len(valid_acc)), valid_acc, label=\"valid accuracy\")\n",
    "plt.legend()\n",
    "plt.title(\"Accuracy\")\n",
    "plt.show()\n",
    "\n",
    "plt.plot(range(len(valid_tp)), valid_tp, label=\"valid tp\", color=\"navy\")\n",
    "plt.plot(range(len(valid_tn)), valid_tn, label=\"valid tn\", color=\"red\")\n",
    "plt.legend()\n",
    "plt.title(\"True positives and True Negatives\")\n",
    "plt.show()\n"
   ]
  },
  {
   "cell_type": "code",
   "execution_count": null,
   "metadata": {},
   "outputs": [],
   "source": []
  }
 ],
 "metadata": {
  "kernelspec": {
   "display_name": "Python 3",
   "language": "python",
   "name": "python3"
  },
  "language_info": {
   "codemirror_mode": {
    "name": "ipython",
    "version": 3
   },
   "file_extension": ".py",
   "mimetype": "text/x-python",
   "name": "python",
   "nbconvert_exporter": "python",
   "pygments_lexer": "ipython3",
   "version": "3.7.3"
  }
 },
 "nbformat": 4,
 "nbformat_minor": 2
}
