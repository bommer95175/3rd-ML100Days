{
 "cells": [
  {
   "cell_type": "markdown",
   "metadata": {},
   "source": [
    "作業1"
   ]
  },
  {
   "cell_type": "code",
   "execution_count": 1,
   "metadata": {},
   "outputs": [
    {
     "name": "stdout",
     "output_type": "stream",
     "text": [
      "The Mean Square Error is 262.316\n"
     ]
    }
   ],
   "source": [
    "import numpy as np\n",
    "import matplotlib.pyplot as plt\n",
    "\n",
    "w = 3\n",
    "b = 0.5\n",
    "\n",
    "x_lin = np.linspace(0, 100, 101)\n",
    "y = (x_lin + np.random.randn(101) * 5) * w + b\n",
    "y_hat = x_lin * w + b\n",
    "\n",
    "def mean_square_error(y, yp):\n",
    "    return sum(abs(y - yp)**2) / len(y)    \n",
    "\n",
    "print(\"The Mean Square Error is %.3f\" % (mean_square_error(y,y_hat)))"
   ]
  },
  {
   "cell_type": "markdown",
   "metadata": {},
   "source": [
    "作業2\n",
    "\n",
    "請上 Kaggle, 在 Competitions 或 Dataset 中找一組競賽或資料並寫下：\n",
    "\n",
    "選擇的資料: Invasive Species Monitoring-Identify images of invasive hydrangea\n",
    "1. 你選的這組資料為何重要\n",
    "    可以利用影像辨識的方式去偵測是否有外來植物Hydrangea，以此保育原生環境。\n",
    "2. 資料從何而來 (tips: 譬如提供者是誰、以什麼方式蒐集)\n",
    "    皆是來自Brazilian national forest的照片，並由專業的植物學家進行標籤。\n",
    "3. 蒐集而來的資料型態為何\n",
    "    兩組影像(training & testing)(.jpg)、與只有與training影像對應的label(.csv)。\n",
    "4. 這組資料想解決的問題如何評估\n",
    "    由演算法處理分類完後，將結果回傳給專業植物學家進行驗證。"
   ]
  },
  {
   "cell_type": "markdown",
   "metadata": {},
   "source": [
    "作業3\n",
    "\n",
    "想像你經營一個自由載客車隊，你希望能透過數據分析以提升業績，請你思考並描述你如何規劃整體的分析/解決方案：\n",
    "       \n",
    "1. 核心問題為何 (tips：如何定義 「提升業績 & 你的假設」)\n",
    "    如何將利益達到最大化?如何使顧客感到舒適以及願意再一次進行消費?\n",
    "2. 資料從何而來 (tips：哪些資料可能會對你想問的問題產生影響 & 資料如何蒐集)\n",
    "    在轄區範圍內所有的路況及隨時間變動之情況>>交通局網站或是google map\n",
    "    地點熱門度及競爭者數量>>加入同業公會並研讀資料或親身走訪地點\n",
    "3. 蒐集而來的資料型態為何\n",
    "    為integer(競爭者數量、地點預估乘客數量等)、char(交通堵塞程度、熱門地點)>>structure(統整競爭者市場占比和收入以及其營業\n",
    "    方針、乘客在此地點之數目和較有可能乘坐至何處和行進路線之堵塞程度)\n",
    "5. 你要回答的問題，其如何評估 (tips：你的假設如何驗證)\n",
    "    載客地點:\n",
    "    利用數據分析的方式，聊解此地點在某個時間點需要載客服務的客人數量約有多少，同一地點隨時間改變可以改變司機數目以便載客順暢         並使消費者認為此載客車隊的效率快速。\n",
    "    配送車輛數目(司機):\n",
    "    除地點與時間影響車輛數目，也考慮競爭者在同一地點之佔客比為何，否者將容易出現司機遠大於乘客而浪費資源的狀況發生。\n",
    "    時間與距離之性價比:\n",
    "    調查其他競爭者之跳表規則以及研究價格能否壓低，同時也可以在不虧損的情況下直接給予熱門路段地點進行折扣，吸引消費者。同時也         可以分析路況讓時間與距離能夠呈現更好的狀態，使乘客能以最低車資且最少時間到達目的地。\n",
    "    聯絡方式:也可編寫一APP，讓除了常駐熱門地點之較遠乘客能夠隨時了解附近車隊車況與載送所需時間。"
   ]
  }
 ],
 "metadata": {
  "kernelspec": {
   "display_name": "Python 3",
   "language": "python",
   "name": "python3"
  },
  "language_info": {
   "codemirror_mode": {
    "name": "ipython",
    "version": 3
   },
   "file_extension": ".py",
   "mimetype": "text/x-python",
   "name": "python",
   "nbconvert_exporter": "python",
   "pygments_lexer": "ipython3",
   "version": "3.7.3"
  }
 },
 "nbformat": 4,
 "nbformat_minor": 2
}
