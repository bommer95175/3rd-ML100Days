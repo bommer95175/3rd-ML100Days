{
  "nbformat": 4,
  "nbformat_minor": 0,
  "metadata": {
    "kernelspec": {
      "display_name": "Python 3",
      "language": "python",
      "name": "python3"
    },
    "language_info": {
      "codemirror_mode": {
        "name": "ipython",
        "version": 3
      },
      "file_extension": ".py",
      "mimetype": "text/x-python",
      "name": "python",
      "nbconvert_exporter": "python",
      "pygments_lexer": "ipython3",
      "version": "3.6.6"
    },
    "colab": {
      "name": "Day_002_HW_example.ipynb",
      "version": "0.3.2",
      "provenance": [],
      "collapsed_sections": [],
      "include_colab_link": true
    }
  },
  "cells": [
    {
      "cell_type": "markdown",
      "metadata": {
        "id": "view-in-github",
        "colab_type": "text"
      },
      "source": [
        "<a href=\"https://colab.research.google.com/github/bommer95175/3rd-ML100Days/blob/master/Day_002_HW.ipynb\" target=\"_parent\"><img src=\"https://colab.research.google.com/assets/colab-badge.svg\" alt=\"Open In Colab\"/></a>"
      ]
    },
    {
      "cell_type": "markdown",
      "metadata": {
        "id": "LomIB_yTRkfP",
        "colab_type": "text"
      },
      "source": [
        "## [作業目標]\n",
        "了解機器學習適合應用的領域與範疇。"
      ]
    },
    {
      "cell_type": "markdown",
      "metadata": {
        "id": "E1159nZxRkfR",
        "colab_type": "text"
      },
      "source": [
        "## [作業重點]\n",
        "透過瞭解機器學習的運作方式，找出非常適用機器學習應用的領域及其原因"
      ]
    },
    {
      "cell_type": "markdown",
      "metadata": {
        "id": "QYhMvz7oRkfS",
        "colab_type": "text"
      },
      "source": [
        "## 作業\n",
        "請找出一個你認為機器學習可以發光發熱的領域並闡述原因? "
      ]
    },
    {
      "cell_type": "code",
      "metadata": {
        "id": "zXDQSCEpRkfT",
        "colab_type": "code",
        "colab": {},
        "cellView": "code"
      },
      "source": [
        "犯罪潛能偵測。\n",
        "  機器學習主要是量化數據並且進行分類，且當數據越多也能有更高的判斷力。每10萬人就有1.2萬的人有犯罪傾向，所以只要藉由量化犯罪者的行為、心理狀態、生理訊號等，即可以建造出一模型來判斷此人是否有犯罪傾向並且加以觀察且防範。\n",
        "  可以建立大數據庫，並量化監獄內的犯罪者的各種數據，創建出模型，接著進行在人們生活周遭不經意的量測生理訊號(例如體檢)，心理狀態(政府創立問券填寫)等去進行比對，從此去判斷一個人是否有犯罪傾向從此加以預防。"
      ],
      "execution_count": 0,
      "outputs": []
    }
  ]
}